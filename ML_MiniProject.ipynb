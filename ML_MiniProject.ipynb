{
  "cells": [
    {
      "cell_type": "code",
      "execution_count": null,
      "metadata": {
        "colab": {
          "base_uri": "https://localhost:8080/"
        },
        "id": "mT5bfbVrewrT",
        "outputId": "ac535239-d863-4fc7-e7b1-802199b5c24c"
      },
      "outputs": [
        {
          "output_type": "stream",
          "name": "stdout",
          "text": [
            "All libraries imported successfully!\n"
          ]
        }
      ],
      "source": [
        "import pandas as pd\n",
        "import numpy as np\n",
        "import matplotlib.pyplot as plt\n",
        "import seaborn as sns\n",
        "from sklearn.model_selection import train_test_split\n",
        "from sklearn.preprocessing import StandardScaler\n",
        "from imblearn.over_sampling import SMOTE\n",
        "from sklearn.linear_model import LogisticRegression\n",
        "from sklearn.ensemble import RandomForestClassifier\n",
        "import tensorflow as tf\n",
        "from tensorflow.keras.models import Sequential\n",
        "from tensorflow.keras.layers import Dense, InputLayer\n",
        "from sklearn.metrics import classification_report, confusion_matrix\n",
        "import joblib\n",
        "from sklearn.impute import SimpleImputer\n",
        "\n",
        "print(\"All libraries imported successfully!\")"
      ]
    },
    {
      "cell_type": "code",
      "execution_count": null,
      "metadata": {
        "colab": {
          "base_uri": "https://localhost:8080/"
        },
        "id": "8C90-VI-gj7R",
        "outputId": "7d2d5950-99e9-4df8-d841-5e5d71fc7dd2"
      },
      "outputs": [
        {
          "output_type": "stream",
          "name": "stdout",
          "text": [
            "Dataset loaded successfully!\n",
            "--- First 5 Rows ---\n",
            "   Time        V1        V2        V3        V4        V5        V6        V7  \\\n",
            "0   0.0 -1.359807 -0.072781  2.536347  1.378155 -0.338321  0.462388  0.239599   \n",
            "1   0.0  1.191857  0.266151  0.166480  0.448154  0.060018 -0.082361 -0.078803   \n",
            "2   1.0 -1.358354 -1.340163  1.773209  0.379780 -0.503198  1.800499  0.791461   \n",
            "3   1.0 -0.966272 -0.185226  1.792993 -0.863291 -0.010309  1.247203  0.237609   \n",
            "4   2.0 -1.158233  0.877737  1.548718  0.403034 -0.407193  0.095921  0.592941   \n",
            "\n",
            "         V8        V9  ...       V21       V22       V23       V24       V25  \\\n",
            "0  0.098698  0.363787  ... -0.018307  0.277838 -0.110474  0.066928  0.128539   \n",
            "1  0.085102 -0.255425  ... -0.225775 -0.638672  0.101288 -0.339846  0.167170   \n",
            "2  0.247676 -1.514654  ...  0.247998  0.771679  0.909412 -0.689281 -0.327642   \n",
            "3  0.377436 -1.387024  ... -0.108300  0.005274 -0.190321 -1.175575  0.647376   \n",
            "4 -0.270533  0.817739  ... -0.009431  0.798278 -0.137458  0.141267 -0.206010   \n",
            "\n",
            "        V26       V27       V28  Amount  Class  \n",
            "0 -0.189115  0.133558 -0.021053  149.62      0  \n",
            "1  0.125895 -0.008983  0.014724    2.69      0  \n",
            "2 -0.139097 -0.055353 -0.059752  378.66      0  \n",
            "3 -0.221929  0.062723  0.061458  123.50      0  \n",
            "4  0.502292  0.219422  0.215153   69.99      0  \n",
            "\n",
            "[5 rows x 31 columns]\n",
            "\n",
            "--- Dataset Info ---\n",
            "<class 'pandas.core.frame.DataFrame'>\n",
            "RangeIndex: 284807 entries, 0 to 284806\n",
            "Data columns (total 31 columns):\n",
            " #   Column  Non-Null Count   Dtype  \n",
            "---  ------  --------------   -----  \n",
            " 0   Time    284807 non-null  float64\n",
            " 1   V1      284807 non-null  float64\n",
            " 2   V2      284807 non-null  float64\n",
            " 3   V3      284807 non-null  float64\n",
            " 4   V4      284807 non-null  float64\n",
            " 5   V5      284807 non-null  float64\n",
            " 6   V6      284807 non-null  float64\n",
            " 7   V7      284807 non-null  float64\n",
            " 8   V8      284807 non-null  float64\n",
            " 9   V9      284807 non-null  float64\n",
            " 10  V10     284807 non-null  float64\n",
            " 11  V11     284807 non-null  float64\n",
            " 12  V12     284807 non-null  float64\n",
            " 13  V13     284807 non-null  float64\n",
            " 14  V14     284807 non-null  float64\n",
            " 15  V15     284807 non-null  float64\n",
            " 16  V16     284807 non-null  float64\n",
            " 17  V17     284807 non-null  float64\n",
            " 18  V18     284807 non-null  float64\n",
            " 19  V19     284807 non-null  float64\n",
            " 20  V20     284807 non-null  float64\n",
            " 21  V21     284807 non-null  float64\n",
            " 22  V22     284807 non-null  float64\n",
            " 23  V23     284807 non-null  float64\n",
            " 24  V24     284807 non-null  float64\n",
            " 25  V25     284807 non-null  float64\n",
            " 26  V26     284807 non-null  float64\n",
            " 27  V27     284807 non-null  float64\n",
            " 28  V28     284807 non-null  float64\n",
            " 29  Amount  284807 non-null  float64\n",
            " 30  Class   284807 non-null  int64  \n",
            "dtypes: float64(30), int64(1)\n",
            "memory usage: 67.4 MB\n",
            "\n",
            "--- Missing Values ---\n",
            "0 missing values found.\n"
          ]
        }
      ],
      "source": [
        "try:\n",
        "    df = pd.read_csv('creditcard.csv')\n",
        "    print(\"Dataset loaded successfully!\")\n",
        "    print(\"--- First 5 Rows ---\")\n",
        "    print(df.head())\n",
        "    print(\"\\n--- Dataset Info ---\")\n",
        "    df.info()\n",
        "    print(f\"\\n--- Missing Values ---\\n{df.isnull().sum().max()} missing values found.\")\n",
        "except FileNotFoundError:\n",
        "    print(\"ERROR: 'creditcard.csv' not found. Please upload the file to your Colab session.\")"
      ]
    },
    {
      "cell_type": "code",
      "source": [
        "print(\"Missing values per column before imputation:\")\n",
        "print(df.isnull().sum())\n",
        "\n",
        "# imputer object to fill missing values with the median\n",
        "imputer = SimpleImputer(strategy='median')\n",
        "\n",
        "# fit the imputer on the data and transform it\n",
        "# convert numpy array back into dataframe\n",
        "df_imputed = pd.DataFrame(imputer.fit_transform(df), columns=df.columns)\n",
        "\n",
        "# check again for any more missing values\n",
        "print(\"\\nMissing values per column after imputation:\")\n",
        "print(df_imputed.isnull().sum())\n",
        "\n",
        "# replace old with new dataframe\n",
        "df = df_imputed\n",
        "\n",
        "print(\"\\nMissing values have been handled using median imputation.\")"
      ],
      "metadata": {
        "colab": {
          "base_uri": "https://localhost:8080/"
        },
        "id": "9lYueU9WRMQ9",
        "outputId": "c61f1b49-7202-4ed8-ff89-6afd74efea4a"
      },
      "execution_count": null,
      "outputs": [
        {
          "output_type": "stream",
          "name": "stdout",
          "text": [
            "Missing values per column before imputation:\n",
            "Time      0\n",
            "V1        0\n",
            "V2        0\n",
            "V3        0\n",
            "V4        0\n",
            "V5        0\n",
            "V6        0\n",
            "V7        0\n",
            "V8        0\n",
            "V9        0\n",
            "V10       0\n",
            "V11       0\n",
            "V12       0\n",
            "V13       0\n",
            "V14       0\n",
            "V15       0\n",
            "V16       0\n",
            "V17       0\n",
            "V18       0\n",
            "V19       0\n",
            "V20       0\n",
            "V21       0\n",
            "V22       0\n",
            "V23       0\n",
            "V24       0\n",
            "V25       0\n",
            "V26       0\n",
            "V27       0\n",
            "V28       0\n",
            "Amount    0\n",
            "Class     0\n",
            "dtype: int64\n",
            "\n",
            "Missing values per column after imputation:\n",
            "Time      0\n",
            "V1        0\n",
            "V2        0\n",
            "V3        0\n",
            "V4        0\n",
            "V5        0\n",
            "V6        0\n",
            "V7        0\n",
            "V8        0\n",
            "V9        0\n",
            "V10       0\n",
            "V11       0\n",
            "V12       0\n",
            "V13       0\n",
            "V14       0\n",
            "V15       0\n",
            "V16       0\n",
            "V17       0\n",
            "V18       0\n",
            "V19       0\n",
            "V20       0\n",
            "V21       0\n",
            "V22       0\n",
            "V23       0\n",
            "V24       0\n",
            "V25       0\n",
            "V26       0\n",
            "V27       0\n",
            "V28       0\n",
            "Amount    0\n",
            "Class     0\n",
            "dtype: int64\n",
            "\n",
            "Missing values have been handled using median imputation.\n"
          ]
        }
      ]
    },
    {
      "cell_type": "code",
      "execution_count": null,
      "metadata": {
        "colab": {
          "base_uri": "https://localhost:8080/",
          "height": 784
        },
        "id": "H3zre55DgonM",
        "outputId": "bea90b23-08e6-4d60-94f3-228cdffc18d5"
      },
      "outputs": [
        {
          "output_type": "stream",
          "name": "stdout",
          "text": [
            "\n",
            "--- Class Distribution ---\n",
            "Class\n",
            "0.0    284315\n",
            "1.0       492\n",
            "Name: count, dtype: int64\n",
            "Percentage of Fraudulent Transactions: 0.1727%\n"
          ]
        },
        {
          "output_type": "stream",
          "name": "stderr",
          "text": [
            "/tmp/ipython-input-1171045248.py:9: FutureWarning: \n",
            "\n",
            "Passing `palette` without assigning `hue` is deprecated and will be removed in v0.14.0. Assign the `x` variable to `hue` and set `legend=False` for the same effect.\n",
            "\n",
            "  sns.countplot(x='Class', data=df, palette=['#3498db', '#e74c3c'])\n"
          ]
        },
        {
          "output_type": "display_data",
          "data": {
            "text/plain": [
              "<Figure size 800x600 with 1 Axes>"
            ],
            "image/png": "[encoded data removed]"
          },
          "metadata": {}
        }
      ],
      "source": [
        "# --- Class Distribution Analysis ---\n",
        "print(\"\\n--- Class Distribution ---\")\n",
        "print(df['Class'].value_counts())\n",
        "fraud_percentage = (df['Class'].value_counts()[1] / len(df)) * 100\n",
        "print(f\"Percentage of Fraudulent Transactions: {fraud_percentage:.4f}%\")\n",
        "\n",
        "# displaying the class imbalance\n",
        "plt.figure(figsize=(8, 6))\n",
        "sns.countplot(x='Class', data=df, palette=['#3498db', '#e74c3c'])\n",
        "plt.title('Class Distribution (0: Legitimate vs. 1: Fraud)')\n",
        "plt.show()"
      ]
    },
    {
      "cell_type": "code",
      "execution_count": null,
      "metadata": {
        "colab": {
          "base_uri": "https://localhost:8080/"
        },
        "id": "a-Ieb6EKgsxb",
        "outputId": "40fbaa15-51e9-4797-9672-cf55a4630965"
      },
      "outputs": [
        {
          "output_type": "stream",
          "name": "stdout",
          "text": [
            "Data Splitting Complete.\n",
            "Shape of X_train: (227845, 30)\n",
            "Shape of X_test: (56962, 30)\n"
          ]
        }
      ],
      "source": [
        "# separating the features (x) and target (y)\n",
        "X = df.drop('Class', axis=1)\n",
        "y = df['Class']\n",
        "\n",
        "# splitting into training and testing sets\n",
        "X_train, X_test, y_train, y_test = train_test_split(\n",
        "    X, y, test_size=0.2, random_state=42, stratify=y\n",
        ")\n",
        "print(\"Data Splitting Complete.\")\n",
        "print(\"Shape of X_train:\", X_train.shape)\n",
        "print(\"Shape of X_test:\", X_test.shape)"
      ]
    },
    {
      "cell_type": "code",
      "execution_count": null,
      "metadata": {
        "colab": {
          "base_uri": "https://localhost:8080/"
        },
        "id": "wOmn04gOgukt",
        "outputId": "40fa8f03-c6cd-4910-df16-68c338ee2f8e"
      },
      "outputs": [
        {
          "output_type": "stream",
          "name": "stdout",
          "text": [
            "'Time' and 'Amount' columns have been scaled correctly.\n"
          ]
        }
      ],
      "source": [
        "# --- Scaling ---\n",
        "amount_scaler = StandardScaler()\n",
        "time_scaler = StandardScaler()\n",
        "\n",
        "# fit the scaler on the training data's Amount and Time\n",
        "X_train['Amount'] = amount_scaler.fit_transform(X_train['Amount'].values.reshape(-1, 1))\n",
        "X_train['Time'] = time_scaler.fit_transform(X_train['Time'].values.reshape(-1, 1))\n",
        "\n",
        "# use same scalar to transform the test data\n",
        "X_test['Amount'] = amount_scaler.transform(X_test['Amount'].values.reshape(-1, 1))\n",
        "X_test['Time'] = time_scaler.transform(X_test['Time'].values.reshape(-1, 1))\n",
        "\n",
        "print(\"'Time' and 'Amount' columns have been scaled correctly.\")"
      ]
    },
    {
      "cell_type": "markdown",
      "metadata": {
        "id": "JHwVwjrLklPa"
      },
      "source": [
        "# **DAY 2**"
      ]
    },
    {
      "cell_type": "code",
      "source": [
        "print(\"\\n--- Applying SMOTE to the training data ---\")\n",
        "smote = SMOTE(random_state=42)\n",
        "X_train_resampled, y_train_resampled = smote.fit_resample(X_train, y_train)\n",
        "print(\"SMOTE applied successfully.\")"
      ],
      "metadata": {
        "colab": {
          "base_uri": "https://localhost:8080/"
        },
        "id": "FbB3dvddRl8J",
        "outputId": "7b83ab25-bde9-420a-e890-a8e419759cf3"
      },
      "execution_count": null,
      "outputs": [
        {
          "output_type": "stream",
          "name": "stdout",
          "text": [
            "\n",
            "--- Applying SMOTE to the training data ---\n",
            "SMOTE applied successfully.\n"
          ]
        }
      ]
    },
    {
      "cell_type": "code",
      "execution_count": null,
      "metadata": {
        "colab": {
          "base_uri": "https://localhost:8080/"
        },
        "id": "7lfzjX8Qk09Y",
        "outputId": "24197152-f26e-4aeb-c539-8261bee0add3"
      },
      "outputs": [
        {
          "output_type": "stream",
          "name": "stdout",
          "text": [
            "\n",
            "--- Training Logistic Regression ---\n",
            "Logistic Regression trained.\n",
            "\n",
            "--- Training Random Forest ---\n",
            "Random Forest trained.\n",
            "\n",
            "--- Training Neural Network ---\n"
          ]
        },
        {
          "output_type": "stream",
          "name": "stderr",
          "text": [
            "/usr/local/lib/python3.12/dist-packages/keras/src/layers/core/input_layer.py:27: UserWarning: Argument `input_shape` is deprecated. Use `shape` instead.\n",
            "  warnings.warn(\n"
          ]
        },
        {
          "output_type": "stream",
          "name": "stdout",
          "text": [
            "Neural Network trained.\n"
          ]
        }
      ],
      "source": [
        "# --- Model 1: Logistic Regression ---\n",
        "print(\"\\n--- Training Logistic Regression ---\")\n",
        "log_reg = LogisticRegression(random_state=42, max_iter=200).fit(X_train_resampled, y_train_resampled)\n",
        "print(\"Logistic Regression trained.\")\n",
        "\n",
        "# --- Model 2: Random Forest ---\n",
        "print(\"\\n--- Training Random Forest ---\")\n",
        "rf_clf = RandomForestClassifier(n_estimators=100, random_state=42, n_jobs=-1).fit(X_train_resampled, y_train_resampled)\n",
        "print(\"Random Forest trained.\")\n",
        "\n",
        "# --- Model 3: Neural Network ---\n",
        "print(\"\\n--- Training Neural Network ---\")\n",
        "neural_net = Sequential([\n",
        "    InputLayer(input_shape=(X_train_resampled.shape[1],)),\n",
        "    Dense(16, activation='relu'), Dense(8, activation='relu'), Dense(1, activation='sigmoid')\n",
        "])\n",
        "neural_net.compile(optimizer='adam', loss='binary_crossentropy', metrics=['accuracy'])\n",
        "neural_net.fit(X_train_resampled, y_train_resampled, epochs=20, batch_size=64, verbose=0)\n",
        "print(\"Neural Network trained.\")"
      ]
    },
    {
      "cell_type": "markdown",
      "metadata": {
        "id": "EMs2KytCwVob"
      },
      "source": [
        "# DAY 3"
      ]
    },
    {
      "cell_type": "code",
      "execution_count": null,
      "metadata": {
        "colab": {
          "base_uri": "https://localhost:8080/"
        },
        "id": "i10GaQB-wZln",
        "outputId": "97f64138-c085-48cb-e032-8d9a74c755ff"
      },
      "outputs": [
        {
          "output_type": "stream",
          "name": "stdout",
          "text": [
            "\u001b[1m1781/1781\u001b[0m \u001b[32m━━━━━━━━━━━━━━━━━━━━\u001b[0m\u001b[37m\u001b[0m \u001b[1m2s\u001b[0m 1ms/step\n",
            "\n",
            "\n",
            "--- Logistic Regression Performance ---\n",
            "              precision    recall  f1-score   support\n",
            "\n",
            "         0.0       1.00      0.97      0.99     56864\n",
            "         1.0       0.06      0.92      0.11        98\n",
            "\n",
            "    accuracy                           0.97     56962\n",
            "   macro avg       0.53      0.95      0.55     56962\n",
            "weighted avg       1.00      0.97      0.99     56962\n",
            "\n",
            "\n",
            "\n",
            "--- Random Forest Performance ---\n",
            "              precision    recall  f1-score   support\n",
            "\n",
            "         0.0       1.00      1.00      1.00     56864\n",
            "         1.0       0.85      0.84      0.84        98\n",
            "\n",
            "    accuracy                           1.00     56962\n",
            "   macro avg       0.92      0.92      0.92     56962\n",
            "weighted avg       1.00      1.00      1.00     56962\n",
            "\n",
            "\n",
            "\n",
            "--- Neural Network Performance ---\n",
            "              precision    recall  f1-score   support\n",
            "\n",
            "         0.0       1.00      1.00      1.00     56864\n",
            "         1.0       0.48      0.84      0.61        98\n",
            "\n",
            "    accuracy                           1.00     56962\n",
            "   macro avg       0.74      0.92      0.80     56962\n",
            "weighted avg       1.00      1.00      1.00     56962\n",
            "\n"
          ]
        }
      ],
      "source": [
        "# --- make Predictions ---\n",
        "y_pred_log_reg = log_reg.predict(X_test)\n",
        "y_pred_rf = rf_clf.predict(X_test)\n",
        "y_pred_nn = (neural_net.predict(X_test) > 0.5).astype(\"int32\")\n",
        "\n",
        "# --- display Reports ---\n",
        "print(\"\\n\\n--- Logistic Regression Performance ---\")\n",
        "print(classification_report(y_test, y_pred_log_reg))\n",
        "\n",
        "print(\"\\n\\n--- Random Forest Performance ---\")\n",
        "print(classification_report(y_test, y_pred_rf))\n",
        "\n",
        "print(\"\\n\\n--- Neural Network Performance ---\")\n",
        "print(classification_report(y_test, y_pred_nn))"
      ]
    },
    {
      "cell_type": "code",
      "execution_count": null,
      "metadata": {
        "colab": {
          "base_uri": "https://localhost:8080/",
          "height": 1000
        },
        "id": "m5YmrVEuwhdu",
        "outputId": "33fc8ba6-182b-4e61-dec8-f738cd564473"
      },
      "outputs": [
        {
          "output_type": "stream",
          "name": "stdout",
          "text": [
            "\n",
            "\n",
            "--- Logistic Regression Performance ---\n",
            "Classification Report:\n",
            "                precision    recall  f1-score   support\n",
            "\n",
            "Legitimate (0)       1.00      0.97      0.99     56864\n",
            "     Fraud (1)       0.06      0.92      0.11        98\n",
            "\n",
            "      accuracy                           0.97     56962\n",
            "     macro avg       0.53      0.95      0.55     56962\n",
            "  weighted avg       1.00      0.97      0.99     56962\n",
            "\n"
          ]
        },
        {
          "output_type": "display_data",
          "data": {
            "text/plain": [
              "<Figure size 800x600 with 2 Axes>"
            ],
            "image/png": "[encoded data removed]"
          },
          "metadata": {}
        },
        {
          "output_type": "stream",
          "name": "stdout",
          "text": [
            "\n",
            "\n",
            "--- Random Forest Performance ---\n",
            "Classification Report:\n",
            "                precision    recall  f1-score   support\n",
            "\n",
            "Legitimate (0)       1.00      1.00      1.00     56864\n",
            "     Fraud (1)       0.85      0.84      0.84        98\n",
            "\n",
            "      accuracy                           1.00     56962\n",
            "     macro avg       0.92      0.92      0.92     56962\n",
            "  weighted avg       1.00      1.00      1.00     56962\n",
            "\n"
          ]
        },
        {
          "output_type": "display_data",
          "data": {
            "text/plain": [
              "<Figure size 800x600 with 2 Axes>"
            ],
            "image/png": "[encoded data removed]"
          },
          "metadata": {}
        },
        {
          "output_type": "stream",
          "name": "stdout",
          "text": [
            "\n",
            "\n",
            "--- Neural Network Performance ---\n",
            "Classification Report:\n",
            "                precision    recall  f1-score   support\n",
            "\n",
            "Legitimate (0)       1.00      1.00      1.00     56864\n",
            "     Fraud (1)       0.48      0.84      0.61        98\n",
            "\n",
            "      accuracy                           1.00     56962\n",
            "     macro avg       0.74      0.92      0.80     56962\n",
            "  weighted avg       1.00      1.00      1.00     56962\n",
            "\n"
          ]
        },
        {
          "output_type": "display_data",
          "data": {
            "text/plain": [
              "<Figure size 800x600 with 2 Axes>"
            ],
            "image/png": "[encoded data removed]"
          },
          "metadata": {}
        }
      ],
      "source": [
        "### Model 1: Logistic Regression Evaluation\n",
        "print(\"\\n\\n--- Logistic Regression Performance ---\")\n",
        "print(\"Classification Report:\")\n",
        "print(classification_report(y_test, y_pred_log_reg, target_names=['Legitimate (0)', 'Fraud (1)']))\n",
        "\n",
        "# Confusion Matrix\n",
        "cm_log_reg = confusion_matrix(y_test, y_pred_log_reg)\n",
        "plt.figure(figsize=(8, 6))\n",
        "sns.heatmap(cm_log_reg, annot=True, fmt='d', cmap='Blues',\n",
        "            xticklabels=['Predicted Legitimate', 'Predicted Fraud'],\n",
        "            yticklabels=['Actual Legitimate', 'Actual Fraud'])\n",
        "plt.title('Logistic Regression Confusion Matrix')\n",
        "plt.show()\n",
        "\n",
        "\n",
        "### Model 2: Random Forest Evaluation\n",
        "print(\"\\n\\n--- Random Forest Performance ---\")\n",
        "print(\"Classification Report:\")\n",
        "print(classification_report(y_test, y_pred_rf, target_names=['Legitimate (0)', 'Fraud (1)']))\n",
        "\n",
        "# Confusion Matrix\n",
        "cm_rf = confusion_matrix(y_test, y_pred_rf)\n",
        "plt.figure(figsize=(8, 6))\n",
        "sns.heatmap(cm_rf, annot=True, fmt='d', cmap='Greens',\n",
        "            xticklabels=['Predicted Legitimate', 'Predicted Fraud'],\n",
        "            yticklabels=['Actual Legitimate', 'Actual Fraud'])\n",
        "plt.title('Random Forest Confusion Matrix')\n",
        "plt.show()\n",
        "\n",
        "\n",
        "### Model 3: Neural Network Evaluation\n",
        "print(\"\\n\\n--- Neural Network Performance ---\")\n",
        "print(\"Classification Report:\")\n",
        "print(classification_report(y_test, y_pred_nn, target_names=['Legitimate (0)', 'Fraud (1)']))\n",
        "\n",
        "# Confusion Matrix\n",
        "cm_nn = confusion_matrix(y_test, y_pred_nn)\n",
        "plt.figure(figsize=(8, 6))\n",
        "sns.heatmap(cm_nn, annot=True, fmt='d', cmap='Oranges',\n",
        "            xticklabels=['Predicted Legitimate', 'Predicted Fraud'],\n",
        "            yticklabels=['Actual Legitimate', 'Actual Fraud'])\n",
        "plt.title('Neural Network Confusion Matrix')\n",
        "plt.show()"
      ]
    },
    {
      "cell_type": "markdown",
      "metadata": {
        "id": "rUT--SGSxkG1"
      },
      "source": [
        "# EXTRA"
      ]
    },
    {
      "cell_type": "code",
      "execution_count": null,
      "metadata": {
        "id": "LJehPIWH6E2p",
        "colab": {
          "base_uri": "https://localhost:8080/"
        },
        "outputId": "7bdf8394-836e-44d2-989f-795359329f40"
      },
      "outputs": [
        {
          "output_type": "stream",
          "name": "stdout",
          "text": [
            "✅ Random Forest model saved.\n",
            "✅ Amount and Time scalers saved.\n",
            "✅ SHAP KernelExplainer saved successfully.\n"
          ]
        }
      ],
      "source": [
        "# Install shap if not already installed\n",
        "!pip install shap -q\n",
        "\n",
        "import shap\n",
        "import joblib\n",
        "\n",
        "# --- Save the best model (Random Forest) ---\n",
        "joblib.dump(rf_clf, 'random_forest_model.joblib')\n",
        "print(\"✅ Random Forest model saved.\")\n",
        "\n",
        "# --- Save both separate scalers ---\n",
        "joblib.dump(amount_scaler, 'amount_scaler.joblib')\n",
        "joblib.dump(time_scaler, 'time_scaler.joblib')\n",
        "print(\"✅ Amount and Time scalers saved.\")\n",
        "\n",
        "# --- URGENT FIX: Create and save a KernelExplainer ---\n",
        "# 1. We create a summary of the training data using kmeans. 100 samples is a good summary.\n",
        "background_data = shap.kmeans(X_train_resampled, 100)\n",
        "\n",
        "# 2. We create the model-agnostic KernelExplainer. It needs the model's prediction function and the summary data.\n",
        "explainer = shap.KernelExplainer(rf_clf.predict_proba, background_data)\n",
        "joblib.dump(explainer, 'shap_explainer.joblib')\n",
        "print(\"✅ SHAP KernelExplainer saved successfully.\")\n"
      ]
    }
  ],
  "metadata": {
    "colab": {
      "provenance": []
    },
    "kernelspec": {
      "display_name": "Python 3",
      "name": "python3"
    },
    "language_info": {
      "name": "python"
    }
  },
  "nbformat": 4,
  "nbformat_minor": 0
}